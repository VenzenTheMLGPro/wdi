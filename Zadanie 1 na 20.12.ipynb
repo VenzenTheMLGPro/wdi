{
  "nbformat": 4,
  "nbformat_minor": 0,
  "metadata": {
    "colab": {
      "provenance": [],
      "authorship_tag": "ABX9TyMKV7isjsl9H4IyXQ5BtpWC",
      "include_colab_link": true
    },
    "kernelspec": {
      "name": "python3",
      "display_name": "Python 3"
    },
    "language_info": {
      "name": "python"
    }
  },
  "cells": [
    {
      "cell_type": "markdown",
      "metadata": {
        "id": "view-in-github",
        "colab_type": "text"
      },
      "source": [
        "<a href=\"https://colab.research.google.com/github/VenzenTheMLGPro/wdi/blob/main/Zadanie%201%20na%2020.12.ipynb\" target=\"_parent\"><img src=\"https://colab.research.google.com/assets/colab-badge.svg\" alt=\"Open In Colab\"/></a>"
      ]
    },
    {
      "cell_type": "markdown",
      "source": [
        "Dodanie unitestu by sprawdzić czy kod działa"
      ],
      "metadata": {
        "id": "3OjpyzBjTK11"
      }
    },
    {
      "cell_type": "code",
      "source": [
        "import unittest\n",
        "\n",
        "a = int(input(\"Podaj dzielną: \"))\n",
        "b = int(input(\"Podaj dzielnik: \"))\n",
        "\n",
        "\n",
        "def NWD(a, b):\n",
        "    if b != 0:\n",
        "        print(str(a) + \" = \" + str(b) + \" * \" + str(int((a - (a % b)) / b)) + \" + \" + str(a%b))\n",
        "        return NWD(b, a % b)\n",
        "    return a\n",
        "\n",
        "print(\"\\nNWD wynosi: \", NWD(a, b))\n",
        "\n",
        "\n",
        "class Test_Euklides(unittest.TestCase):\n",
        "    def Test_Euklides(self):\n",
        "        self.NWD = NWD(a, b)\n",
        "        result = self.NWD(121, 114)\n",
        "        expected = 1\n",
        "        self.assertEqual(result, expected)\n",
        "\n",
        "\n",
        "unittest.main(argv=[''], verbosity=2, exit=False)"
      ],
      "metadata": {
        "id": "7J_1Hs9JTC-e"
      },
      "execution_count": null,
      "outputs": []
    },
    {
      "cell_type": "markdown",
      "source": [
        "Unitest output: OK - działa"
      ],
      "metadata": {
        "id": "NAc6u5GQTUBg"
      }
    }
  ]
}